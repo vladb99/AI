{
 "cells": [
  {
   "cell_type": "markdown",
   "metadata": {
    "id": "PohCF88YwWgk"
   },
   "source": [
    "# Aufgaben Blatt 4 KI Machine Learning I\n",
    "\n"
   ]
  },
  {
   "cell_type": "markdown",
   "metadata": {
    "id": "r9sieFkrwWgm"
   },
   "source": [
    "## Aufgabe 1 (Lineare Regression)\n",
    "\n",
    "Bearbeiten Sie die Aufgabe https://github.com/oduerr/ki/blob/main/linear_regression/lr_gradient_descent.ipynb\n",
    "\n",
    "Versuchen Sie den Code zu verstehen und machen die kleineren Aufgaben, die in dem notebook besprochen werden."
   ]
  },
  {
   "cell_type": "markdown",
   "metadata": {
    "id": "hr2BSdsNwWgm"
   },
   "source": [
    "## Aufgabe 2 (Titanic)\n",
    "In dieser Aufgabe nehmen Sie an der Titanic Challenge (https://www.kaggle.com/c/titanic) teil. Sie können die Aufgabe am eigenen PC lösen oder direkt in Kaggle lösen. Die Daten liegen auch auf Moodle. "
   ]
  },
  {
   "cell_type": "markdown",
   "metadata": {
    "id": "f-_0tiX-wWgm"
   },
   "source": [
    "a) Lesen Sie die Trainingsdaten ein und teilen Sie sie in ein Validierungsdatenset (20%) und in ein eigentliches Trainigsdatenset (80%) auf. Finden Sie auf dem Validierungsdatensatz eine Regel für das Überleben alleine aufgrund der Klasse des Tickets (Pclass). Wenden Sie diese Regel auf die Validierungsdaten an. Wie gut ist die Genauigkeit (Anteil der korrekten Klassifikationen) auf den Validierungsdaten?  "
   ]
  },
  {
   "cell_type": "code",
   "execution_count": 34,
   "metadata": {
    "id": "PGm0-jEawWgn"
   },
   "outputs": [
    {
     "name": "stdout",
     "output_type": "stream",
     "text": [
      "136 80\n",
      "87 97\n",
      "119 372\n"
     ]
    }
   ],
   "source": [
    "# Hinweise zum Einlesen\n",
    "import pandas as pd # data processing, CSV file I/O (e.g. pd.read_csv)\n",
    "train_val = pd.read_csv('train.csv')\n",
    "\n",
    "# Hinweise zum Erzeugen einer Tabelle\n",
    "# pd.crosstab(...)\n",
    "\n",
    "# Hinweise um die Accuracy zu berechnen\n",
    "from sklearn.metrics import accuracy_score\n",
    "from sklearn.model_selection import train_test_split\n",
    "\n",
    "\n",
    "#print(train_val.loc[:,[\"Survived\", \"Pclass\"]])\n",
    "\n",
    "train, validation = train_test_split(train_val, test_size=0.2)\n",
    "\n",
    "c1_survived = len(train_val.loc[(train_val['Pclass'] == 1) & (train_val['Survived'] == 1)])\n",
    "c1_died = len(train_val.loc[(train_val['Pclass'] == 1) & (train_val['Survived'] == 0)])\n",
    "\n",
    "c2_survived = len(train_val.loc[(train_val['Pclass'] == 2) & (train_val['Survived'] == 1)])\n",
    "c2_died = len(train_val.loc[(train_val['Pclass'] == 2) & (train_val['Survived'] == 0)])\n",
    "\n",
    "c3_survived = len(train_val.loc[(train_val['Pclass'] == 3) & (train_val['Survived'] == 1)])\n",
    "c3_died = len(train_val.loc[(train_val['Pclass'] == 3) & (train_val['Survived'] == 0)])\n",
    "\n",
    "print(c1_survived, c1_died)\n",
    "print(c2_survived, c2_died)\n",
    "print(c3_survived, c3_died)"
   ]
  },
  {
   "cell_type": "markdown",
   "metadata": {
    "id": "AAb6YDtTwWgn"
   },
   "source": [
    "b) Wenden Sie die Regel aus a) auf die Testdaten an und laden Sie Ihre Lösung hoch. "
   ]
  },
  {
   "cell_type": "code",
   "execution_count": 39,
   "metadata": {
    "id": "SeplTB8SwWgo",
    "outputId": "98e2e1d5-0b85-4bb6-beb5-25e200b94913"
   },
   "outputs": [
    {
     "name": "stdout",
     "output_type": "stream",
     "text": [
      "Your submission was successfully saved!\n"
     ]
    }
   ],
   "source": [
    "#############################################\n",
    "test_data = pd.read_csv('test.csv')\n",
    "pred_survived = []#Enhält die Predictions 0 für Tod 1 für Survived\n",
    "\n",
    "for i, row in test_data.iterrows():\n",
    "    q = row['Pclass']\n",
    "    if q == 1:\n",
    "        pred_survived.append(1)\n",
    "    elif q == 2:\n",
    "        pred_survived.append(0)\n",
    "    elif q == 3:\n",
    "        pred_survived.append(0)\n",
    "# Hinweise zum rausschreiben\n",
    "\n",
    "output = pd.DataFrame({'PassengerId': test_data.PassengerId, 'Survived': pred_survived})\n",
    "output.to_csv('my_submission.csv', index=False)\n",
    "print(\"Your submission was successfully saved!\")"
   ]
  },
  {
   "cell_type": "markdown",
   "metadata": {
    "id": "q0YqDhK3wWgp"
   },
   "source": [
    "c) Logistische Regression mit Pclass\n",
    "\n",
    "Trainieren Sie eine logistische Regression mit den Variablen 'Pclass'. Verwenden Sie die Klasse `sklearn.linear_model.LogisticRegression`. Berechnen Sie die Accuracy auf dem Validierungsset."
   ]
  },
  {
   "cell_type": "markdown",
   "metadata": {
    "id": "p-xC04XswWgp"
   },
   "source": [
    "d) Coding / Feature engineering \n",
    "\n",
    "d.i) Missing Values:\n",
    "\n",
    "Verwenden Sie nun weitere Features. Die Variable Age enthält Missing values, die Sie durch folgenden code ersetzen können (was passiert da?)"
   ]
  },
  {
   "cell_type": "code",
   "execution_count": null,
   "metadata": {
    "id": "6i9qi9ywwWgq"
   },
   "outputs": [],
   "source": [
    "val[\"Age\"].fillna(train[\"Age\"].median(skipna=True), inplace=True)\n",
    "train[\"Age\"].fillna(train[\"Age\"].median(skipna=True), inplace=True)"
   ]
  },
  {
   "cell_type": "markdown",
   "metadata": {
    "id": "qxNwZco7wWgq"
   },
   "source": [
    "d.ii) Kategorische Variable\n",
    "\n",
    "Verwenden Sie die Funktion `pd.get_dummies` um die Variablen 'Pclass' and 'Sex' in numerische Werte umzuwandeln. Führen Sie nun eine logistische Regression durch."
   ]
  },
  {
   "cell_type": "markdown",
   "metadata": {
    "id": "yu8UOcKAwWgq"
   },
   "source": [
    "e) Weitere Klassifikatoren. Neben der logistischen Regression, gibt es weitere Klassifikatoren. Der Random-Forest ist ein recht stabiler Klassifikator, was wäre die Performance von diesem Klassifikator."
   ]
  },
  {
   "cell_type": "code",
   "execution_count": null,
   "metadata": {
    "id": "v0eRJVGSwWgr"
   },
   "outputs": [],
   "source": [
    "# Hinweise zur Lösung\n",
    "from sklearn.ensemble import RandomForestClassifier\n",
    "rf = RandomForestClassifier()\n",
    "#rf hat nun gleiches interface, wie die logistische Regression"
   ]
  },
  {
   "cell_type": "markdown",
   "metadata": {
    "id": "Oe_oIy11wWgr"
   },
   "source": [
    "f) [optional] Versuchen Sie weitere Features zu erzeugen und laden den besten Klassifikator auf Kaggle hoch. "
   ]
  },
  {
   "cell_type": "markdown",
   "metadata": {
    "id": "fc49pWuewWgr"
   },
   "source": [
    "## Aufgabe 3 Titanic mit Neuronalen Netzen \n",
    "\n",
    "Hinweis: Diese Aufgabe kann erst nach der dritten Vorlesung in ML gemacht werden.\n",
    "\n",
    "Mit den gleichen Daten, wie in der Aufgabe 2 d. Erstellen Sie ein fully connected neural network und fitten es an die Ttrainingsdaten. Verwenden Sie mindestens zwei hidden Layer. Plotten Sie den Verlauf der Loss Kurve für die Trainings- und Validierungsdaten. Optional: Laden Sie Ihre beste Lösung auf Kaggle hoch. "
   ]
  },
  {
   "cell_type": "code",
   "execution_count": null,
   "metadata": {
    "id": "aYxfamTkwWgr",
    "outputId": "80a28e11-8256-4ab2-97ad-8f1d0ddda78e"
   },
   "outputs": [
    {
     "name": "stdout",
     "output_type": "stream",
     "text": [
      "Model: \"sequential_1\"\n",
      "_________________________________________________________________\n",
      "Layer (type)                 Output Shape              Param #   \n",
      "=================================================================\n",
      "dense_1 (Dense)              (None, 10)                50        \n",
      "_________________________________________________________________\n",
      "dense_2 (Dense)              (None, 1)                 11        \n",
      "=================================================================\n",
      "Total params: 61\n",
      "Trainable params: 61\n",
      "Non-trainable params: 0\n",
      "_________________________________________________________________\n"
     ]
    }
   ],
   "source": [
    "#Sie können von folgendem Code starten um das Netzwerk zu definieren, füllen Sie die ...\n",
    "import tensorflow as tf\n",
    "import tensorflow.keras \n",
    "from tensorflow.keras.models import Sequential\n",
    "from tensorflow.keras.layers import Dense\n",
    "model = Sequential()\n",
    "model.add(Dense(..., activation='sigmoid', batch_input_shape=(None, 4))) #We have 4 input features\n",
    "#...\n",
    "model.add(Dense(1, activation='sigmoid'))\n",
    "opt = tf.keras.optimizers.Adam(learning_rate=1e-3)\n",
    "model.compile(loss=tf.keras.losses.BinaryCrossentropy(),\n",
    "              optimizer=opt,\n",
    "              metrics=['accuracy'])\n",
    "model.summary()"
   ]
  },
  {
   "cell_type": "code",
   "execution_count": null,
   "metadata": {
    "id": "9M8BQdo5wWgs"
   },
   "outputs": [],
   "source": []
  }
 ],
 "metadata": {
  "colab": {
   "name": "ki_ml_blatt_1.ipynb",
   "provenance": []
  },
  "kernelspec": {
   "display_name": "Python 3 (ipykernel)",
   "language": "python",
   "name": "python3"
  },
  "language_info": {
   "codemirror_mode": {
    "name": "ipython",
    "version": 3
   },
   "file_extension": ".py",
   "mimetype": "text/x-python",
   "name": "python",
   "nbconvert_exporter": "python",
   "pygments_lexer": "ipython3",
   "version": "3.8.3"
  }
 },
 "nbformat": 4,
 "nbformat_minor": 1
}
