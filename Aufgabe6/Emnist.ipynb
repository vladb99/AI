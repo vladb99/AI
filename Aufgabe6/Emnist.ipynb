{
  "cells": [
    {
      "cell_type": "markdown",
      "id": "1bca65b3-9679-4269-96e0-5f501b5c3f6a",
      "metadata": {
        "id": "1bca65b3-9679-4269-96e0-5f501b5c3f6a"
      },
      "source": [
        "# Transfer learning\n",
        "\n",
        "Das Ziel des Transferlearning ist es, ein bereits trainiertes Modell auf eine andere Aufgabe zu trainieren. Die Idee dahinter ist den Teil des Netzwerks, der für die Extraktion von Merkmalen zuständig ist, zu \"recyceln\". Da dies in der Regel der teuerste Teil des Trainings ist, spart man sich dadurch eine Menge an Zeit. Das bedeutet, dass dieser Teil nicht neu trainiert werden muss, sondern die bereits trainierte Featurextraktion genauso gut für eine ähnliche Aufgabe verwendet werden kann. Aus diesem Grund sollte man ein bereits trainiertes Netzwerk nutzen, welches für eine ähnliche Aufgabe trainiert wurde. Lediglich die Klassifikationsschicht wird neu trainiert. Ziel dieses Notebooks ist es, ein Verständnis zu bekommen, was beim Transferlearning passiert.\n",
        "\n",
        "Schauen Sie sich folgendes Notebook an und versuchen Sie den groben Ablauf zu verstehen.\n",
        "Sie werden die meisten Befehle die Sie benötigen darin finden.\n",
        "https://www.tensorflow.org/tutorials/images/transfer_learning\n",
        "\n",
        "Für diese Aufgabe wollen wir das in der letzten Aufgabe trainierte Convolutional Neural Network, welches auf dem Mnist Datensatz trainiert wurde, auf eine andere Aufgabe trainieren. Die Aufgabe des Netzwerks soll es sein, Hexadezimalzahlen zu erkennen.\n",
        "Hierzu verwenden wir den $\\textit{emnist}$ Datensatz. Dieser beinhaltet zusätzlich das Alphabet (große und kleine Buchstaben). Näheres dazu unter https://pypi.org/project/emnist/ \n",
        "\n",
        "Gehen Sie dazu wie folgt vor:\n",
        "\n",
        "    * Laden Sie ihr Modell aus der vorherigen Aufgabe mit tf.keras.models.load_model(\"Name des Modells\") Falls Sie ihr Modell nicht gespeichert hatten, können Sie dies mit model.save(\"Name des Modells\"), nachdem Sie erneut trainiert haben, tun.\n",
        "      \n",
        "    * Bereiten Sie den emnist-Datensatz wie in der vorherigen Aufgabe vor und sortieren Sie alle Kleinbuchstaben sowie alle Buchstaben, die nicht der Hexadezimalschreibweise angehören, aus!\n",
        "      \n",
        "    * Laden Sie das zuvor gespeicherte Modell und entfernen Sie die letzte Schicht ( model.pop() )\n",
        "    \n",
        "    * Frieren Sie das Modell ein, d.h. Sie setzen die Layer auf nicht trainierbar\n",
        "    \n",
        "    * Fügen Sie eine neue Schicht hinzu, sodass die verschiedenen Klassen (0-F) klassifiziert werden können (Wir beschränken uns hier auf die groß geschriebenen Buchstaben)\n",
        "    \n",
        "    * Trainieren Sie das Netzwerk mit den transformierten Labels\n",
        "    \n",
        "    * Plotten Sie wieder die Trainingskurven und erstellen sie eine confusion Matrix"
      ]
    },
    {
      "cell_type": "code",
      "execution_count": 70,
      "id": "099b0031-b03b-48e7-96aa-97f0c491a06d",
      "metadata": {
        "colab": {
          "base_uri": "https://localhost:8080/"
        },
        "id": "099b0031-b03b-48e7-96aa-97f0c491a06d",
        "outputId": "eed297b8-c915-4baf-9283-2f106eaf4121"
      },
      "outputs": [
        {
          "output_type": "stream",
          "name": "stdout",
          "text": [
            "Looking in indexes: https://pypi.org/simple, https://us-python.pkg.dev/colab-wheels/public/simple/\n",
            "Requirement already satisfied: extra_keras_datasets in /usr/local/lib/python3.7/dist-packages (1.2.0)\n",
            "Requirement already satisfied: scikit-learn in /usr/local/lib/python3.7/dist-packages (from extra_keras_datasets) (1.0.2)\n",
            "Requirement already satisfied: pandas in /usr/local/lib/python3.7/dist-packages (from extra_keras_datasets) (1.3.5)\n",
            "Requirement already satisfied: numpy in /usr/local/lib/python3.7/dist-packages (from extra_keras_datasets) (1.21.6)\n",
            "Requirement already satisfied: scipy in /usr/local/lib/python3.7/dist-packages (from extra_keras_datasets) (1.4.1)\n",
            "Requirement already satisfied: python-dateutil>=2.7.3 in /usr/local/lib/python3.7/dist-packages (from pandas->extra_keras_datasets) (2.8.2)\n",
            "Requirement already satisfied: pytz>=2017.3 in /usr/local/lib/python3.7/dist-packages (from pandas->extra_keras_datasets) (2022.1)\n",
            "Requirement already satisfied: six>=1.5 in /usr/local/lib/python3.7/dist-packages (from python-dateutil>=2.7.3->pandas->extra_keras_datasets) (1.15.0)\n",
            "Requirement already satisfied: joblib>=0.11 in /usr/local/lib/python3.7/dist-packages (from scikit-learn->extra_keras_datasets) (1.1.0)\n",
            "Requirement already satisfied: threadpoolctl>=2.0.0 in /usr/local/lib/python3.7/dist-packages (from scikit-learn->extra_keras_datasets) (3.1.0)\n"
          ]
        }
      ],
      "source": [
        "import matplotlib.pyplot as plt\n",
        "import numpy as np\n",
        "import os\n",
        "import tensorflow as tf\n",
        "from sklearn.metrics import confusion_matrix \n",
        "!pip install extra_keras_datasets\n",
        "from extra_keras_datasets import emnist"
      ]
    },
    {
      "cell_type": "code",
      "execution_count": 71,
      "id": "28c85969-93c8-4ec0-aeaf-91f4c8eb2582",
      "metadata": {
        "id": "28c85969-93c8-4ec0-aeaf-91f4c8eb2582",
        "colab": {
          "base_uri": "https://localhost:8080/"
        },
        "outputId": "394ab5ab-f507-461a-b38a-2d582c0f6d7d"
      },
      "outputs": [
        {
          "output_type": "stream",
          "name": "stderr",
          "text": [
            "INFO:root:Loading dataset = emnist\n",
            "WARNING:root:Please cite the following paper when using or referencing this Extra Keras Dataset:\n",
            "WARNING:root:Cohen, G., Afshar, S., Tapson, J., & van Schaik, A. (2017). EMNIST: an extension of MNIST to handwritten letters. Retrieved from http://arxiv.org/abs/1702.05373\n"
          ]
        }
      ],
      "source": [
        "# Vorbereiten von Nist\n",
        "\n",
        "(input_train, target_train), (input_test, target_test) = emnist.load_data(type='balanced')"
      ]
    },
    {
      "cell_type": "code",
      "source": [
        "# Sortieren Sie alle Ziffern aus, die unerwünscht sind!\n",
        "# Hinweis: np.where ist hierfür recht Hilfreich\n",
        "\n",
        "training_data = input_train[target_train < 16]\n",
        "training_labels = target_train[target_train < 16]\n",
        "\n",
        "test_data = input_test[target_test < 16]\n",
        "test_labels = target_test[target_test < 16]"
      ],
      "metadata": {
        "id": "0gd5N6WxJdxi"
      },
      "id": "0gd5N6WxJdxi",
      "execution_count": 72,
      "outputs": []
    },
    {
      "cell_type": "code",
      "execution_count": 73,
      "id": "a2986b36-7340-4dd3-b659-a2663682d303",
      "metadata": {
        "id": "a2986b36-7340-4dd3-b659-a2663682d303",
        "outputId": "69b35282-ac1a-421f-bb3a-09194170d26a",
        "colab": {
          "base_uri": "https://localhost:8080/",
          "height": 761
        }
      },
      "outputs": [
        {
          "output_type": "display_data",
          "data": {
            "text/plain": [
              "<Figure size 432x288 with 1 Axes>"
            ],
            "image/png": "[encoded data removed]"
          },
          "metadata": {
            "needs_background": "light"
          }
        },
        {
          "output_type": "display_data",
          "data": {
            "text/plain": [
              "<Figure size 432x288 with 1 Axes>"
            ],
            "image/png": "[encoded data removed]"
          },
          "metadata": {
            "needs_background": "light"
          }
        },
        {
          "output_type": "display_data",
          "data": {
            "text/plain": [
              "<Figure size 432x288 with 1 Axes>"
            ],
            "image/png": "[encoded data removed]"
          },
          "metadata": {
            "needs_background": "light"
          }
        }
      ],
      "source": [
        "# Plotten Sie hier ein paar Ziffern!\n",
        "for n in range(3):\n",
        "  plt.imshow(training_data[n])\n",
        "  plt.show()"
      ]
    },
    {
      "cell_type": "code",
      "execution_count": 74,
      "id": "8c1aada7-698e-4cf8-84e3-a5de1c0f4493",
      "metadata": {
        "id": "8c1aada7-698e-4cf8-84e3-a5de1c0f4493",
        "outputId": "e94de392-2c3b-4b53-8d26-b98496ed533d",
        "colab": {
          "base_uri": "https://localhost:8080/"
        }
      },
      "outputs": [
        {
          "output_type": "stream",
          "name": "stdout",
          "text": [
            "(38400, 28, 28, 1)\n",
            "(38400, 16)\n",
            "(6400, 28, 28, 1)\n",
            "(6400, 16)\n"
          ]
        }
      ],
      "source": [
        "# Normalisieren Sie das Set und bringen es in die richtige \"shape\"\n",
        "training_data = np.reshape(training_data, (training_data.shape[0],28,28,1))\n",
        "training_labels = tf.keras.utils.to_categorical(training_labels, num_classes=16)\n",
        "test_data = np.reshape(test_data, (test_data.shape[0],28,28,1))\n",
        "test_labels = tf.keras.utils.to_categorical(test_labels, num_classes=16)\n",
        "\n",
        "print(training_data.shape)\n",
        "print(training_labels.shape)\n",
        "print(test_data.shape)\n",
        "print(test_labels.shape)"
      ]
    },
    {
      "cell_type": "code",
      "execution_count": 75,
      "id": "5cda1cfa-672f-4dff-93f8-c3d67c76957b",
      "metadata": {
        "id": "5cda1cfa-672f-4dff-93f8-c3d67c76957b",
        "outputId": "3c4342fa-0d9c-47f9-b316-6bc3010701ac",
        "colab": {
          "base_uri": "https://localhost:8080/"
        }
      },
      "outputs": [
        {
          "output_type": "stream",
          "name": "stdout",
          "text": [
            "Model: \"sequential_3\"\n",
            "_________________________________________________________________\n",
            " Layer (type)                Output Shape              Param #   \n",
            "=================================================================\n",
            " conv2d_10 (Conv2D)          (None, 24, 24, 32)        832       \n",
            "                                                                 \n",
            " conv2d_11 (Conv2D)          (None, 20, 20, 32)        25600     \n",
            "                                                                 \n",
            " batch_normalization_10 (Bat  (None, 20, 20, 32)       128       \n",
            " chNormalization)                                                \n",
            "                                                                 \n",
            " activation_10 (Activation)  (None, 20, 20, 32)        0         \n",
            "                                                                 \n",
            " max_pooling2d_6 (MaxPooling  (None, 10, 10, 32)       0         \n",
            " 2D)                                                             \n",
            "                                                                 \n",
            " dropout_6 (Dropout)         (None, 10, 10, 32)        0         \n",
            "                                                                 \n",
            " conv2d_12 (Conv2D)          (None, 8, 8, 64)          18496     \n",
            "                                                                 \n",
            " conv2d_13 (Conv2D)          (None, 6, 6, 64)          36864     \n",
            "                                                                 \n",
            " batch_normalization_11 (Bat  (None, 6, 6, 64)         256       \n",
            " chNormalization)                                                \n",
            "                                                                 \n",
            " activation_11 (Activation)  (None, 6, 6, 64)          0         \n",
            "                                                                 \n",
            " max_pooling2d_7 (MaxPooling  (None, 3, 3, 64)         0         \n",
            " 2D)                                                             \n",
            "                                                                 \n",
            " dropout_7 (Dropout)         (None, 3, 3, 64)          0         \n",
            "                                                                 \n",
            " flatten_3 (Flatten)         (None, 576)               0         \n",
            "                                                                 \n",
            " dense_9 (Dense)             (None, 256)               147456    \n",
            "                                                                 \n",
            " batch_normalization_12 (Bat  (None, 256)              1024      \n",
            " chNormalization)                                                \n",
            "                                                                 \n",
            " activation_12 (Activation)  (None, 256)               0         \n",
            "                                                                 \n",
            " dense_10 (Dense)            (None, 128)               32768     \n",
            "                                                                 \n",
            " batch_normalization_13 (Bat  (None, 128)              512       \n",
            " chNormalization)                                                \n",
            "                                                                 \n",
            " activation_13 (Activation)  (None, 128)               0         \n",
            "                                                                 \n",
            " dense_11 (Dense)            (None, 84)                10752     \n",
            "                                                                 \n",
            " batch_normalization_14 (Bat  (None, 84)               336       \n",
            " chNormalization)                                                \n",
            "                                                                 \n",
            " activation_14 (Activation)  (None, 84)                0         \n",
            "                                                                 \n",
            " dropout_8 (Dropout)         (None, 84)                0         \n",
            "                                                                 \n",
            "=================================================================\n",
            "Total params: 275,024\n",
            "Trainable params: 273,896\n",
            "Non-trainable params: 1,128\n",
            "_________________________________________________________________\n"
          ]
        }
      ],
      "source": [
        "# Laden des Modells\n",
        "base_model = tf.keras.models.load_model(\"/content/drive/MyDrive/Colab_Notebooks/mnist_model_internet/mnist_model\")\n",
        "\n",
        "#Hier die letzte Schicht entfernen\n",
        "base_model.pop()\n",
        "base_model.summary()"
      ]
    },
    {
      "cell_type": "code",
      "execution_count": 76,
      "id": "371cb421-f1f2-47b6-90d6-4cf99b451618",
      "metadata": {
        "id": "371cb421-f1f2-47b6-90d6-4cf99b451618"
      },
      "outputs": [],
      "source": [
        "\n",
        "# Modell einfrieren\n",
        "base_model.trainable = False\n",
        "\n",
        "# Basismodell als Ausgangspunkt nehmen\n",
        "inputs = tf.keras.Input(shape=(28, 28,1))\n",
        "x = base_model(inputs, training=False)\n",
        "\n",
        "# Hier einen Dense-layer und einmal Softmax hinzufügen, sodass die verschiedenen Klassen vorhergesagt werden! können!\n",
        "last_layer = tf.keras.layers.Dense(16)(x)\n",
        "output     = tf.keras.layers.Activation('softmax')(last_layer)\n",
        "\n",
        "# Modell Zusammenfügen\n",
        "model = tf.keras.Model(inputs, output)"
      ]
    },
    {
      "cell_type": "code",
      "execution_count": 77,
      "id": "97ab7f72-f612-4e37-b1c5-064d7aa616a1",
      "metadata": {
        "id": "97ab7f72-f612-4e37-b1c5-064d7aa616a1",
        "outputId": "1f8d7c49-6167-4028-c993-d3b732302797",
        "colab": {
          "base_uri": "https://localhost:8080/"
        }
      },
      "outputs": [
        {
          "output_type": "stream",
          "name": "stdout",
          "text": [
            "Model: \"model_1\"\n",
            "_________________________________________________________________\n",
            " Layer (type)                Output Shape              Param #   \n",
            "=================================================================\n",
            " input_5 (InputLayer)        [(None, 28, 28, 1)]       0         \n",
            "                                                                 \n",
            " sequential_3 (Sequential)   (None, 84)                275024    \n",
            "                                                                 \n",
            " dense_3 (Dense)             (None, 16)                1360      \n",
            "                                                                 \n",
            " activation_3 (Activation)   (None, 16)                0         \n",
            "                                                                 \n",
            "=================================================================\n",
            "Total params: 276,384\n",
            "Trainable params: 1,360\n",
            "Non-trainable params: 275,024\n",
            "_________________________________________________________________\n"
          ]
        }
      ],
      "source": [
        "# Modell Kompilieren, Kostenfunktion categorical_crossentropy, Optimizer Adam mit der learningrate 1e-4\n",
        "\n",
        "model.summary()"
      ]
    },
    {
      "cell_type": "code",
      "execution_count": 78,
      "id": "7cd190a8-57aa-4daa-bf69-b784f3e4d42f",
      "metadata": {
        "id": "7cd190a8-57aa-4daa-bf69-b784f3e4d42f",
        "outputId": "d15db426-a844-4f93-805b-6c961df3c02b",
        "colab": {
          "base_uri": "https://localhost:8080/"
        }
      },
      "outputs": [
        {
          "output_type": "stream",
          "name": "stdout",
          "text": [
            "200/200 [==============================] - 9s 43ms/step - loss: 36.2750 - accuracy: 0.0598\n"
          ]
        }
      ],
      "source": [
        "base_learning_rate = 0.00015\n",
        "model.compile(optimizer=tf.keras.optimizers.Adam(learning_rate=base_learning_rate),\n",
        "              loss=tf.keras.losses.BinaryCrossentropy(),\n",
        "              metrics=['accuracy'])\n",
        "\n",
        "# Accuracy vor dem Transferlearning bestimmen\n",
        "loss0, accuracy0 = model.evaluate(x = test_data,y = test_labels)\n",
        "\n",
        "\n",
        "\n",
        "#200/200 [==============================] - 2s 1ms/step - loss: 3.4005 - accuracy: 0.0924"
      ]
    },
    {
      "cell_type": "code",
      "execution_count": 79,
      "id": "147cbb77-6c15-4132-96ed-599f4d0567a1",
      "metadata": {
        "id": "147cbb77-6c15-4132-96ed-599f4d0567a1",
        "colab": {
          "base_uri": "https://localhost:8080/"
        },
        "outputId": "811443e5-84d0-40bc-97c6-3ef9878e2337"
      },
      "outputs": [
        {
          "output_type": "stream",
          "name": "stdout",
          "text": [
            "Epoch 1/10\n",
            "300/300 [==============================] - 32s 100ms/step - loss: 17.6593 - accuracy: 0.0572 - val_loss: 6.6144 - val_accuracy: 0.0717\n",
            "Epoch 2/10\n",
            "300/300 [==============================] - 29s 95ms/step - loss: 3.7491 - accuracy: 0.2134 - val_loss: 2.2371 - val_accuracy: 0.3491\n",
            "Epoch 3/10\n",
            "300/300 [==============================] - 28s 94ms/step - loss: 1.6618 - accuracy: 0.4160 - val_loss: 1.2609 - val_accuracy: 0.4925\n",
            "Epoch 4/10\n",
            "300/300 [==============================] - 29s 98ms/step - loss: 1.0226 - accuracy: 0.5378 - val_loss: 0.8732 - val_accuracy: 0.5816\n",
            "Epoch 5/10\n",
            "300/300 [==============================] - 28s 94ms/step - loss: 0.7726 - accuracy: 0.6117 - val_loss: 0.7142 - val_accuracy: 0.6353\n",
            "Epoch 6/10\n",
            "300/300 [==============================] - 28s 94ms/step - loss: 0.6509 - accuracy: 0.6551 - val_loss: 0.6168 - val_accuracy: 0.6703\n",
            "Epoch 7/10\n",
            "300/300 [==============================] - 28s 94ms/step - loss: 0.5691 - accuracy: 0.6840 - val_loss: 0.5452 - val_accuracy: 0.6970\n",
            "Epoch 8/10\n",
            "300/300 [==============================] - 28s 95ms/step - loss: 0.5076 - accuracy: 0.7070 - val_loss: 0.4884 - val_accuracy: 0.7194\n",
            "Epoch 9/10\n",
            "300/300 [==============================] - 28s 94ms/step - loss: 0.4586 - accuracy: 0.7269 - val_loss: 0.4438 - val_accuracy: 0.7362\n",
            "Epoch 10/10\n",
            "300/300 [==============================] - 28s 94ms/step - loss: 0.4190 - accuracy: 0.7428 - val_loss: 0.4069 - val_accuracy: 0.7497\n"
          ]
        }
      ],
      "source": [
        "# Hier das Netzwerk für 10 Epochen trainieren!\n",
        "history = model.fit(training_data, training_labels,\n",
        "                    batch_size=128,\n",
        "                    epochs=10,\n",
        "                    validation_data=(test_data, test_labels))"
      ]
    },
    {
      "cell_type": "code",
      "execution_count": 80,
      "id": "ba3a3c41-4939-4e22-bca2-55f8283d6a03",
      "metadata": {
        "id": "ba3a3c41-4939-4e22-bca2-55f8283d6a03",
        "outputId": "a4d1933a-a9f3-494d-d13c-9c73a591a746",
        "colab": {
          "base_uri": "https://localhost:8080/",
          "height": 313
        }
      },
      "outputs": [
        {
          "output_type": "execute_result",
          "data": {
            "text/plain": [
              "<matplotlib.legend.Legend at 0x7f7dbd01e150>"
            ]
          },
          "metadata": {},
          "execution_count": 80
        },
        {
          "output_type": "display_data",
          "data": {
            "text/plain": [
              "<Figure size 864x288 with 2 Axes>"
            ],
            "image/png": "[encoded data removed]"
          },
          "metadata": {
            "needs_background": "light"
          }
        }
      ],
      "source": [
        "# Plotten der Trainingskurve wie in der Aufgabe zuvor\n",
        "plt.figure(figsize=(12,4))\n",
        "plt.subplot(1,2,(1))\n",
        "plt.plot(history.history['accuracy'],linestyle='-.')\n",
        "plt.plot(history.history['val_accuracy'])\n",
        "plt.title('model accuracy')\n",
        "plt.ylabel('accuracy')\n",
        "plt.xlabel('epoch')\n",
        "plt.legend(['train', 'valid'], loc='lower right')\n",
        "plt.subplot(1,2,(2))\n",
        "plt.plot(history.history['loss'],linestyle='-.')\n",
        "plt.plot(history.history['val_loss'])\n",
        "plt.title('model loss')\n",
        "plt.ylabel('loss')\n",
        "plt.xlabel('epoch')\n",
        "plt.legend(['train', 'valid'], loc='upper right')"
      ]
    },
    {
      "cell_type": "code",
      "execution_count": 81,
      "id": "c47bd19e-8d98-4d30-89f7-3531dfa6fb63",
      "metadata": {
        "id": "c47bd19e-8d98-4d30-89f7-3531dfa6fb63",
        "colab": {
          "base_uri": "https://localhost:8080/"
        },
        "outputId": "766dfe38-3a75-4405-ac90-ee27e6d54635"
      },
      "outputs": [
        {
          "output_type": "stream",
          "name": "stdout",
          "text": [
            "[[251   3   3   2   0   0   3   8   0   0   0   3  47  79   1   0]\n",
            " [  0 321   0   1   3   0   3   5   5   0   9  36   4   2  10   1]\n",
            " [  1   2 359   1   1   0   0   0   0   0  11   0  21   0   4   0]\n",
            " [  0   1   1 380   0   2   0   6   0   0   0   9   1   0   0   0]\n",
            " [  0   1   1   0 333   4   0   2   1  10  24   1   0  14   0   9]\n",
            " [  0   1   1   5   0 357   0   0  10   0   9   2   0   1   8   6]\n",
            " [  0   2   0   0   0   0 383   0   0   0   1   2   1   0   6   5]\n",
            " [  2   3   5   2   3   2   1 340   2   4   2   2  12  16   0   4]\n",
            " [  0   4   0   0   0   0   0   1 333   4   8  36   0   2   2  10]\n",
            " [  2   0   0   0   2   0   0  14   2 348   7   7   0   4   1  13]\n",
            " [  0  13   5   1  42   2   1   3   9  30 234  32   1   6   7  14]\n",
            " [  1   4   0  12   0   2   2   2  28   8   9 317   8   3   3   1]\n",
            " [ 17   2  30   1   4   1   6   4   3   0  14   6 232  26  52   2]\n",
            " [ 92  15   0   8   1   0   1  17   4   2   7  11  54 184   4   0]\n",
            " [  0   1  11   1   0  14   5   0  13   2   6   5  29   0 266  47]\n",
            " [  0   8   1   0  19  19   5   1  19  14  37  14   1  17  85 160]]\n",
            "Acc_fc_orig_flat =  0.7496875\n"
          ]
        }
      ],
      "source": [
        "# Confusion Matrix erstellen\n",
        "pred=model.predict(test_data)\n",
        "print(confusion_matrix(np.argmax(test_labels,axis=1),np.argmax(pred,axis=1)))\n",
        "acc_fc_orig = np.sum(np.argmax(test_labels,axis=1)==np.argmax(pred,axis=1))/len(pred)\n",
        "print(\"Acc_fc_orig_flat = \" , acc_fc_orig)"
      ]
    }
  ],
  "metadata": {
    "kernelspec": {
      "display_name": "Python 3",
      "language": "python",
      "name": "python3"
    },
    "language_info": {
      "codemirror_mode": {
        "name": "ipython",
        "version": 3
      },
      "file_extension": ".py",
      "mimetype": "text/x-python",
      "name": "python",
      "nbconvert_exporter": "python",
      "pygments_lexer": "ipython3",
      "version": "3.9.4"
    },
    "colab": {
      "name": "Emnist.ipynb",
      "provenance": [],
      "collapsed_sections": []
    }
  },
  "nbformat": 4,
  "nbformat_minor": 5
}